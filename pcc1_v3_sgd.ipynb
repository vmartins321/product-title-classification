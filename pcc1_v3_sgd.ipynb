{
 "cells": [
  {
   "cell_type": "code",
   "execution_count": 2,
   "metadata": {
    "ExecuteTime": {
     "end_time": "2018-08-04T01:10:30.977289Z",
     "start_time": "2018-08-03T18:10:29.485819-07:00"
    },
    "collapsed": true
   },
   "outputs": [],
   "source": [
    "import pandas as pd\n",
    "import pandas_gbq\n",
    "import pickle\n",
    "import random\n",
    "import isbnlib\n",
    "from sklearn.utils import resample\n",
    "from sklearn.base import TransformerMixin\n",
    "from sklearn.pipeline import Pipeline\n",
    "from sklearn.feature_extraction.text import TfidfVectorizer\n",
    "from sklearn.linear_model import SGDClassifier\n",
    "from sklearn.model_selection import cross_val_score, GridSearchCV, train_test_split"
   ]
  },
  {
   "cell_type": "markdown",
   "metadata": {},
   "source": [
    "## Get data\n"
   ]
  },
  {
   "cell_type": "code",
   "execution_count": 2,
   "metadata": {
    "ExecuteTime": {
     "end_time": "2018-02-05T23:31:02.690055Z",
     "start_time": "2018-02-05T15:31:02.678549-08:00"
    },
    "collapsed": true
   },
   "outputs": [],
   "source": [
    "# Define some helpers\n",
    "# Resample\n",
    "def downsample(df, n):\n",
    "    m_grouped = df.groupby(['target'])\n",
    "    l_m_grouped = list(m_grouped)\n",
    "    clean_majority_list = []\n",
    "    for i in range(len(l_m_grouped)):\n",
    "        clean_majority_list.append(l_m_grouped[i][1])\n",
    "    clean_classes = []\n",
    "    for i in clean_majority_list:\n",
    "        clean_df = resample(i, replace = True, n_samples = n, random_state=0)\n",
    "        clean_classes.append(clean_df)\n",
    "    clean_data = pd.concat(clean_classes)\n",
    "    return clean_data\n",
    "\n",
    "# Mask the data to avoid overfitting\n",
    "def mask_values(data, frac, columns): \n",
    "    sample = data.sample(frac=frac, random_state=0)\n",
    "    data.at[sample.index.values, columns] = \"\"\n",
    "    return data"
   ]
  },
  {
   "cell_type": "code",
   "execution_count": 3,
   "metadata": {
    "ExecuteTime": {
     "end_time": "2018-02-05T23:31:28.679708Z",
     "start_time": "2018-02-05T15:31:02.693143-08:00"
    },
    "collapsed": true
   },
   "outputs": [],
   "source": [
    "# Read in the data\n",
    "data = pd.read_pickle('/Users/victoria/notebooks/data-science/product_categorization/development/v3/data/pcc1_v3_data_2018_02_01.pkl')\n",
    "# Make target variables\n",
    "data['target'] = data.cat_1\n",
    "data = data.drop('cat_1', axis=1)\n",
    "\n",
    "#Mask\n",
    "data = mask_values(data, 0.64, 'cat_2') \n",
    "data = mask_values(data, 0.65, 'cat_3')\n",
    "data = mask_values(data, 0.53, 'descr') \n",
    "data = mask_values(data, 0.59, 'brand')\n",
    "data = mask_values(data, 0.74, 'cat_4')\n",
    "data = mask_values(data, 0.86, 'cat_5')\n",
    "data = mask_values(data, 0.96, 'cat_6')\n",
    "\n",
    "# Split the data for testing\n",
    "data, data_test = train_test_split(data, test_size = 0.2, random_state =11, stratify = data.target)\n",
    "\n",
    "# Resample\n",
    "data = downsample(data, 30000)"
   ]
  },
  {
   "cell_type": "markdown",
   "metadata": {},
   "source": [
    "## Make model pipeline"
   ]
  },
  {
   "cell_type": "code",
   "execution_count": 5,
   "metadata": {
    "ExecuteTime": {
     "end_time": "2018-08-04T01:10:44.999886Z",
     "start_time": "2018-08-03T18:10:44.941823-07:00"
    },
    "collapsed": true
   },
   "outputs": [],
   "source": [
    "class CleanStrings(TransformerMixin):\n",
    "    '''Takes a column and replaces NoneType with blank strings'''\n",
    "    def transform(self, df, **transform_params):\n",
    "        for col in df.columns:\n",
    "            df.loc[:, col] = df.loc[:, col].fillna('')\n",
    "        return df\n",
    "\n",
    "    def fit(self, df, y=None, **fit_params):\n",
    "        return self\n",
    "\n",
    "\n",
    "class Cats2Words (TransformerMixin):\n",
    "    '''Takes a list of categories, transforms them into words with underscores, and returns a single series'''\n",
    "    def transform(self, df, **transform_params):\n",
    "        df['hold_data'] = ''\n",
    "        for col in df.columns:\n",
    "            if 'cat' in col:\n",
    "                df.loc[:, str(col) +'as_word'] = df.loc[:, col].fillna('').map(\n",
    "                    lambda x: x.replace(\"&\",\"\").replace(\",\",\"\"))\n",
    "                df.loc[:, 'hold_data'] = df.loc[:, ['hold_data', str(col) +'as_word']].apply(' '.join, axis = 1) \n",
    "        return df\n",
    "\n",
    "    def fit(self, df, y=None, **fit_params):\n",
    "        return self\n",
    "    \n",
    "class MerchId(TransformerMixin):\n",
    "    '''Takes a merch_id column and returns new features.'''    \n",
    "    def transform(self, df, **transform_params):\n",
    "        df['merch_id_0'] = df.loc[:, 'merch_id'].apply(lambda x: 'id_0_' + x[0])\n",
    "        df['merch_id_len'] = df.loc[:, 'merch_id'].apply(lambda x: 'id_len_' + str(len(x)))\n",
    "        df['isbn'] = df.loc[:, 'merch_id'].apply(lambda x: 'isbn_' + str(isbnlib.is_isbn10(x) or isbnlib.is_isbn13(x)))\n",
    "        return df\n",
    "    \n",
    "    def fit(self, df, y=None, **fit_params):\n",
    "        return self\n",
    "\n",
    "class ColumnSelector(TransformerMixin):\n",
    "    '''Takes a dataframe and joins columns called by key.'''\n",
    "    def __init__(self, key):\n",
    "        self.key = key\n",
    "    \n",
    "    def fit(self, df, y=None):\n",
    "        return self\n",
    "    \n",
    "    def transform(self, df):\n",
    "        df['key'] = df[self.key].apply(' '.join, axis = 1)\n",
    "        return df['key']\n"
   ]
  },
  {
   "cell_type": "code",
   "execution_count": 6,
   "metadata": {
    "ExecuteTime": {
     "end_time": "2018-08-04T01:10:46.757925Z",
     "start_time": "2018-08-03T18:10:46.737073-07:00"
    },
    "collapsed": true
   },
   "outputs": [],
   "source": [
    "tfidf_vectorizer = TfidfVectorizer(input='content', encoding='utf-8',\n",
    "                                   decode_error='strict', strip_accents=ascii, \n",
    "                                   lowercase=True, preprocessor=None, \n",
    "                                   tokenizer=None, analyzer='word', \n",
    "                                   stop_words='english',\n",
    "                                   ngram_range=(1, 2), max_df=1.0, min_df=1, \n",
    "                                   max_features=None, vocabulary=None, \n",
    "                                   binary=False, norm='l2', \n",
    "                                   use_idf=True, smooth_idf=True, \n",
    "                                   sublinear_tf=False)\n",
    "\n",
    "sgd = SGDClassifier(alpha=0.0000001, n_jobs=-1)"
   ]
  },
  {
   "cell_type": "code",
   "execution_count": 7,
   "metadata": {
    "ExecuteTime": {
     "end_time": "2018-08-04T01:10:47.322363Z",
     "start_time": "2018-08-03T18:10:47.301665-07:00"
    },
    "collapsed": true
   },
   "outputs": [],
   "source": [
    "pipeline = Pipeline([\n",
    "                ('cleanstrings', CleanStrings()),\n",
    "                ('cats2words', Cats2Words()),\n",
    "                ('merchId', MerchId()),\n",
    "                ('column selector', ColumnSelector(key=['title', 'descr','brand', 'hold_data', 'merch_id_0', 'merch_id_len', 'isbn', 'cat_2', 'cat_3', 'cat_4', 'cat_5', 'cat_6'])),\n",
    "                ('tfidf', tfidf_vectorizer),\n",
    "                ('sgd', sgd)\n",
    "                ])"
   ]
  },
  {
   "cell_type": "code",
   "execution_count": 7,
   "metadata": {
    "ExecuteTime": {
     "end_time": "2018-02-05T23:40:00.343420Z",
     "start_time": "2018-02-05T15:31:28.764212-08:00"
    }
   },
   "outputs": [
    {
     "name": "stderr",
     "output_type": "stream",
     "text": [
      "/Users/victoria/anaconda/lib/python3.6/site-packages/sklearn/utils/deprecation.py:70: DeprecationWarning: Function transform is deprecated; Support to use estimators as feature selectors will be removed in version 0.19. Use SelectFromModel instead.\n",
      "  warnings.warn(msg, category=DeprecationWarning)\n"
     ]
    },
    {
     "data": {
      "text/plain": [
       "<870000x1389115 sparse matrix of type '<class 'numpy.float64'>'\n",
       "\twith 51375995 stored elements in Compressed Sparse Column format>"
      ]
     },
     "execution_count": 7,
     "metadata": {},
     "output_type": "execute_result"
    }
   ],
   "source": [
    "pipeline.fit_transform(data, data.target)"
   ]
  },
  {
   "cell_type": "markdown",
   "metadata": {
    "ExecuteTime": {
     "end_time": "2017-12-11T18:21:12.813766Z",
     "start_time": "2017-12-11T18:21:12.811163Z"
    }
   },
   "source": [
    "## Test the model"
   ]
  },
  {
   "cell_type": "code",
   "execution_count": 8,
   "metadata": {
    "ExecuteTime": {
     "end_time": "2018-08-04T01:10:50.900291Z",
     "start_time": "2018-08-03T18:10:50.895386-07:00"
    }
   },
   "outputs": [],
   "source": [
    "# Predict on no cats\n",
    "pipeline = Pipeline([\n",
    "                ('cleanstrings', CleanStrings()),\n",
    "                ('cats2words', Cats2Words()),\n",
    "                ('merchId', MerchId()),\n",
    "                ('column selector', ColumnSelector(key=['title', 'descr','brand', 'hold_data', 'merch_id_0', 'merch_id_len', 'isbn'])),\n",
    "                ('tfidf', tfidf_vectorizer),\n",
    "                ('sgd', sgd)\n",
    "                ])"
   ]
  },
  {
   "cell_type": "code",
   "execution_count": 19,
   "metadata": {
    "ExecuteTime": {
     "end_time": "2018-02-06T00:11:18.180299Z",
     "start_time": "2018-02-05T16:09:26.237013-08:00"
    },
    "collapsed": true
   },
   "outputs": [],
   "source": [
    "predictions = pipeline.predict(data_test)"
   ]
  },
  {
   "cell_type": "code",
   "execution_count": 20,
   "metadata": {
    "ExecuteTime": {
     "end_time": "2018-02-06T00:11:21.389877Z",
     "start_time": "2018-02-05T16:11:18.182873-08:00"
    }
   },
   "outputs": [
    {
     "name": "stdout",
     "output_type": "stream",
     "text": [
      "                           precision    recall  f1-score   support\n",
      "\n",
      "             Alexa Skills       0.62      0.38      0.47        34\n",
      "               Appliances       0.77      0.91      0.84       527\n",
      "             Apps & Games       0.65      0.63      0.64       114\n",
      "    Arts, Crafts & Sewing       0.84      0.92      0.88      4376\n",
      "               Automotive       0.88      0.94      0.91      5272\n",
      "            Baby Products       0.85      0.94      0.90      2834\n",
      "   Beauty & Personal Care       0.93      0.96      0.94      9880\n",
      "                    Books       0.98      0.95      0.96     13858\n",
      "              CDs & Vinyl       0.44      0.78      0.57       899\n",
      "Cell Phones & Accessories       0.90      0.96      0.93      7118\n",
      "Clothing, Shoes & Jewelry       0.96      0.95      0.96     32480\n",
      "  Collectibles & Fine Art       0.86      0.67      0.75        48\n",
      "              Electronics       0.96      0.92      0.94     24328\n",
      "               Gift Cards       0.95      0.98      0.97       170\n",
      "   Grocery & Gourmet Food       0.90      0.96      0.93      3866\n",
      "       Health & Household       0.90      0.91      0.91      8876\n",
      "           Home & Kitchen       0.96      0.91      0.93     35629\n",
      "  Industrial & Scientific       0.70      0.81      0.75      1875\n",
      "             Kindle Store       0.86      0.90      0.88      5610\n",
      "              Movies & TV       0.81      0.81      0.81      1479\n",
      "      Musical Instruments       0.86      0.94      0.90      1869\n",
      "          Office Products       0.90      0.92      0.91      7569\n",
      "     Patio, Lawn & Garden       0.85      0.92      0.89      4394\n",
      "             Pet Supplies       0.95      0.97      0.96      5476\n",
      "                 Software       0.85      0.80      0.83       179\n",
      "        Sports & Outdoors       0.88      0.87      0.88     13721\n",
      " Tools & Home Improvement       0.90      0.88      0.89     10332\n",
      "             Toys & Games       0.92      0.92      0.92     12955\n",
      "              Video Games       0.90      0.96      0.93      2780\n",
      "\n",
      "              avg / total       0.93      0.92      0.92    218548\n",
      "\n"
     ]
    }
   ],
   "source": [
    "from sklearn.metrics import classification_report\n",
    "print(classification_report(data_test.target, predictions, target_names=data_test.target.unique().sort()))"
   ]
  },
  {
   "cell_type": "markdown",
   "metadata": {},
   "source": [
    "## Check out best features from test"
   ]
  },
  {
   "cell_type": "code",
   "execution_count": 14,
   "metadata": {
    "ExecuteTime": {
     "end_time": "2018-08-04T01:11:27.766445Z",
     "start_time": "2018-08-03T18:11:27.752436-07:00"
    }
   },
   "outputs": [],
   "source": [
    "import numpy as np\n",
    "svc_model = pipeline.named_steps[\"sgd\"]\n",
    "tf_idf_model = pipeline.named_steps[\"tfidf\"]\n",
    "categories = data.target.unique()\n",
    "categories = np.sort(categories)\n",
    "i = 0\n",
    "for c in range(len(categories)):\n",
    "    print(categories[i])\n",
    "    coefficients = pd.DataFrame({\"names\":tf_idf_model.get_feature_names(),\n",
    "                             \"coef\":svc_model.coef_[i]})\n",
    "    #print(coefficients.sort_values(\"coef\", ascending=False).head(10))\n",
    "    i = i + 1"
   ]
  },
  {
   "cell_type": "markdown",
   "metadata": {},
   "source": [
    "## Get predictions"
   ]
  },
  {
   "cell_type": "code",
   "execution_count": null,
   "metadata": {
    "collapsed": true
   },
   "outputs": [],
   "source": [
    "random = pd.read_csv('~/Downloads/data_labeled.csv')"
   ]
  },
  {
   "cell_type": "code",
   "execution_count": 16,
   "metadata": {
    "ExecuteTime": {
     "end_time": "2018-02-05T23:49:52.714586Z",
     "start_time": "2018-02-05T15:49:50.728455-08:00"
    },
    "collapsed": true
   },
   "outputs": [],
   "source": [
    "predictions = pipeline.predict(random)"
   ]
  },
  {
   "cell_type": "code",
   "execution_count": 17,
   "metadata": {
    "ExecuteTime": {
     "end_time": "2018-02-05T23:49:52.735998Z",
     "start_time": "2018-02-05T15:49:52.716820-08:00"
    }
   },
   "outputs": [
    {
     "name": "stdout",
     "output_type": "stream",
     "text": [
      "                           precision    recall  f1-score   support\n",
      "\n",
      "    Arts, Crafts & Sewing       0.60      1.00      0.75         3\n",
      "               Automotive       0.00      0.00      0.00         0\n",
      "            Baby Products       0.67      0.67      0.67         3\n",
      "   Beauty & Personal Care       1.00      0.71      0.83        14\n",
      "                    Books       0.00      0.00      0.00         0\n",
      "Clothing, Shoes & Jewelry       0.99      0.95      0.97       419\n",
      "              Electronics       0.42      1.00      0.59         5\n",
      "               Gift Cards       1.00      0.50      0.67         2\n",
      "   Grocery & Gourmet Food       1.00      1.00      1.00         2\n",
      "       Health & Household       0.00      0.00      0.00         0\n",
      "           Home & Kitchen       0.98      0.83      0.90       132\n",
      "     Patio, Lawn & Garden       0.00      0.00      0.00         1\n",
      "             Pet Supplies       0.50      1.00      0.67         2\n",
      "        Sports & Outdoors       0.05      1.00      0.10         1\n",
      " Tools & Home Improvement       0.00      0.00      0.00         0\n",
      "             Toys & Games       0.90      1.00      0.95         9\n",
      "\n",
      "              avg / total       0.97      0.92      0.94       593\n",
      "\n"
     ]
    },
    {
     "name": "stderr",
     "output_type": "stream",
     "text": [
      "/Users/victoria/anaconda/lib/python3.6/site-packages/sklearn/metrics/classification.py:1115: UndefinedMetricWarning: Recall and F-score are ill-defined and being set to 0.0 in labels with no true samples.\n",
      "  'recall', 'true', average, warn_for)\n"
     ]
    }
   ],
   "source": [
    "print(classification_report(random.target, predictions, target_names=random.target.unique().sort()))"
   ]
  },
  {
   "cell_type": "markdown",
   "metadata": {
    "ExecuteTime": {
     "end_time": "2018-02-06T22:16:12.913557Z",
     "start_time": "2018-02-06T14:16:12.900686-08:00"
    },
    "collapsed": true
   },
   "source": [
    "## Output predictions"
   ]
  },
  {
   "cell_type": "code",
   "execution_count": 26,
   "metadata": {
    "ExecuteTime": {
     "end_time": "2018-02-06T22:22:08.621271Z",
     "start_time": "2018-02-06T14:22:08.327127-08:00"
    },
    "collapsed": true
   },
   "outputs": [],
   "source": [
    "predictions = pd.DataFrame(predictions)\n",
    "reset = pd.DataFrame(data_test).reset_index(drop=True)\n",
    "result = pd.concat([reset.product_id, reset.title, reset.target, predictions], axis =1)"
   ]
  }
 ],
 "metadata": {
  "kernelspec": {
   "display_name": "Python 3",
   "language": "python",
   "name": "python3"
  },
  "language_info": {
   "codemirror_mode": {
    "name": "ipython",
    "version": 3
   },
   "file_extension": ".py",
   "mimetype": "text/x-python",
   "name": "python",
   "nbconvert_exporter": "python",
   "pygments_lexer": "ipython3",
   "version": "3.6.1"
  },
  "toc": {
   "colors": {
    "hover_highlight": "#DAA520",
    "navigate_num": "#000000",
    "navigate_text": "#333333",
    "running_highlight": "#FF0000",
    "selected_highlight": "#FFD700",
    "sidebar_border": "#EEEEEE",
    "wrapper_background": "#FFFFFF"
   },
   "moveMenuLeft": true,
   "nav_menu": {
    "height": "30px",
    "width": "252px"
   },
   "navigate_menu": true,
   "number_sections": true,
   "sideBar": true,
   "threshold": 4,
   "toc_cell": false,
   "toc_position": {
    "height": "1271px",
    "left": "0px",
    "right": "910.824px",
    "top": "72px",
    "width": "149px"
   },
   "toc_section_display": "block",
   "toc_window_display": true,
   "widenNotebook": false
  }
 },
 "nbformat": 4,
 "nbformat_minor": 2
}
